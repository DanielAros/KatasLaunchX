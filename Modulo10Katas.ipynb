{
 "cells": [
  {
   "cell_type": "markdown",
   "metadata": {},
   "source": [
    "## Ejercicio astronautas\n",
    "Los astronautas limitan su uso de agua a unos 11 litros al día. Se debe crear una función que, con base al número de astronautas, pueda calcular la cantidad de agua que quedará después de un día o más."
   ]
  },
  {
   "cell_type": "code",
   "execution_count": 6,
   "metadata": {},
   "outputs": [
    {
     "data": {
      "text/plain": [
       "'Total de agua que queda después de 2 dias es: -10 litros'"
      ]
     },
     "execution_count": 6,
     "metadata": {},
     "output_type": "execute_result"
    }
   ],
   "source": [
    "def queda_agua(astronautas, queda_agua, dias_que_quedan):\n",
    "    uso_diario = astronautas * 11\n",
    "    total_usado = uso_diario * dias_que_quedan\n",
    "    total_agua_queda = queda_agua - total_usado\n",
    "    return f\"Total de agua que queda después de {dias_que_quedan} dias es: {total_agua_queda} litros\"\n",
    "\n",
    "queda_agua(5, 100, 2)\n"
   ]
  },
  {
   "cell_type": "markdown",
   "metadata": {},
   "source": [
    "Generar una alerta si ya no queda agua"
   ]
  },
  {
   "cell_type": "code",
   "execution_count": 1,
   "metadata": {},
   "outputs": [
    {
     "name": "stdout",
     "output_type": "stream",
     "text": [
      "No hay suficiente agua para 5 después de 2 dias\n"
     ]
    }
   ],
   "source": [
    "def queda_agua(astronautas, queda_agua, dias_que_quedan):\n",
    "    uso_diario = astronautas * 11\n",
    "    total_usado = uso_diario * dias_que_quedan\n",
    "    total_agua_queda = queda_agua - total_usado\n",
    "    if total_agua_queda < 0:\n",
    "        raise RuntimeError(f\"No hay suficiente agua para {astronautas} después de {dias_que_quedan} dias\")\n",
    "    return f\"Total de agua que queda después de {dias_que_quedan} dias es: {total_agua_queda} litros\"\n",
    "try:\n",
    "    queda_agua(5, 100, 2)\n",
    "except RuntimeError as err:\n",
    "    print(err)"
   ]
  },
  {
   "cell_type": "markdown",
   "metadata": {},
   "source": [
    "En esta función comprobamos si todos los argumentos pasados a la función, son de tipo entero, sino se muestra una excepcion"
   ]
  },
  {
   "cell_type": "code",
   "execution_count": 1,
   "metadata": {},
   "outputs": [
    {
     "name": "stdout",
     "output_type": "stream",
     "text": [
      "Todos los argumentos deben ser de tipo intero, pero se recibio: '5'\n"
     ]
    }
   ],
   "source": [
    "def queda_agua(astronautas, queda_agua, dias_que_quedan):\n",
    "    for argumento in [astronautas, queda_agua, dias_que_quedan]:\n",
    "        try:\n",
    "            argumento / 10\n",
    "        except TypeError:\n",
    "            raise TypeError(f\"Todos los argumentos deben ser de tipo intero, pero se recibio: '{argumento}'\")\n",
    "    uso_diario = astronautas * 11\n",
    "    total_usado = uso_diario * dias_que_quedan\n",
    "    total_agua_queda = queda_agua - total_usado\n",
    "    if total_agua_queda < 0:\n",
    "        raise RuntimeError(f\"No hay suficiente agua para {astronautas} después de {dias_que_quedan} dias\")\n",
    "    return f\"Total de agua que queda después de {dias_que_quedan} dias es: {total_agua_queda} litros\"\n",
    "\n",
    "try:\n",
    "    queda_agua(\"5\", 100, 2)\n",
    "except RuntimeError as err:\n",
    "    print(err)\n",
    "except TypeError as err:\n",
    "    print(err)"
   ]
  },
  {
   "cell_type": "markdown",
   "metadata": {},
   "source": [
    "## Controlando excepciones\n",
    "Función que abre un archivo inexistente y controla la excepcion"
   ]
  },
  {
   "cell_type": "code",
   "execution_count": 1,
   "metadata": {},
   "outputs": [
    {
     "name": "stdout",
     "output_type": "stream",
     "text": [
      "No se pudo encontrar el archivo configuracion.txt\n"
     ]
    }
   ],
   "source": [
    "def main():\n",
    "    try:\n",
    "        open(\"configuracion.txt\")\n",
    "    except:\n",
    "        print(\"No se pudo encontrar el archivo configuracion.txt\")\n",
    "\n",
    "if __name__ == '__main__':\n",
    "    main()"
   ]
  },
  {
   "cell_type": "markdown",
   "metadata": {},
   "source": [
    "Creando una excepcion cuando no se encuentra un archivo, sino, un directorio"
   ]
  },
  {
   "cell_type": "code",
   "execution_count": 4,
   "metadata": {},
   "outputs": [
    {
     "name": "stdout",
     "output_type": "stream",
     "text": [
      "No se pudo encontrar el archivo configuracion.txt\n"
     ]
    }
   ],
   "source": [
    "def main():\n",
    "    try:\n",
    "        configuracion = open('configuracion.txt')\n",
    "    except FileNotFoundError:\n",
    "        print(\"No se pudo encontrar el archivo configuracion.txt\")\n",
    "    except IsADirectoryError:\n",
    "        print(\"Se encontro el archivo configuracion.txt pero es un directorio y no se pudo leer\")\n",
    "\n",
    "if __name__ == '__main__':\n",
    "    main()"
   ]
  },
  {
   "cell_type": "markdown",
   "metadata": {},
   "source": [
    "Agrupando excepciones en una sola"
   ]
  },
  {
   "cell_type": "code",
   "execution_count": 5,
   "metadata": {},
   "outputs": [
    {
     "name": "stdout",
     "output_type": "stream",
     "text": [
      "No se pudo encontrar el archivo configuracion.txt\n"
     ]
    }
   ],
   "source": [
    "def main():\n",
    "    try:\n",
    "        configuracion = open('configuracion.txt')\n",
    "    except FileNotFoundError:\n",
    "        print(\"No se pudo encontrar el archivo configuracion.txt\")\n",
    "    except IsADirectoryError:\n",
    "        print(\"Se encontro el archivo configuracion.txt pero es un directorio y no se pudo leer\")\n",
    "    except (BlockingIOError, TimeoutError):\n",
    "        print(\"Sistema de archivos con mucha carga, no se puede completar la lectura del archivo de configuracion\")\n",
    "\n",
    "if __name__ == '__main__':\n",
    "    main()"
   ]
  }
 ],
 "metadata": {
  "interpreter": {
   "hash": "916dbcbb3f70747c44a77c7bcd40155683ae19c65e1c03b4aa3499c5328201f1"
  },
  "kernelspec": {
   "display_name": "Python 3.8.10 64-bit",
   "language": "python",
   "name": "python3"
  },
  "language_info": {
   "codemirror_mode": {
    "name": "ipython",
    "version": 3
   },
   "file_extension": ".py",
   "mimetype": "text/x-python",
   "name": "python",
   "nbconvert_exporter": "python",
   "pygments_lexer": "ipython3",
   "version": "3.8.10"
  },
  "orig_nbformat": 4
 },
 "nbformat": 4,
 "nbformat_minor": 2
}
